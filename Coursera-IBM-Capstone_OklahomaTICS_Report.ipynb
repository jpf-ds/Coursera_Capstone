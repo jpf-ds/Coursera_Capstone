{
    "cells": [
        {
            "cell_type": "markdown",
            "metadata": {},
            "source": "   # Distribution of Oklahoma Travel Information Centers (TICs)"
        },
        {
            "cell_type": "markdown",
            "metadata": {},
            "source": "### Capstone Report"
        },
        {
            "cell_type": "markdown",
            "metadata": {
                "collapsed": true
            },
            "source": "# Introduction"
        },
        {
            "cell_type": "markdown",
            "metadata": {},
            "source": "This project examines the distribution of Oklahoma's Travel Information Centers. The purpose of this report is to identify areas of opportunity for the Oklahoma Tourism Department to build new TICs to better service tourists. "
        },
        {
            "cell_type": "markdown",
            "metadata": {},
            "source": "# Data"
        },
        {
            "cell_type": "markdown",
            "metadata": {},
            "source": "To achieve the desired outcome, we will use Foursquare's Places API to call on specific venue information and their associated features. Several libraries or dependencies will be used to analyze, shape, and visualize Oklahoma's TICs. "
        },
        {
            "cell_type": "markdown",
            "metadata": {},
            "source": "# Methodology"
        },
        {
            "cell_type": "markdown",
            "metadata": {},
            "source": "In this project, I will plot areas of Oklahoma that contain a travel information center and identify areas where there may be a cluster of tourist attractions but lacks a TIC within reasonable distance.\n\nIn the first section, I pinpointed a central location of Oklahoma (i.e., the zip code 73102) as a point of reference and to initiate an instance of a geocoder. The geocoder will be used to plot the travel information centers. The radius is set fairly extensively so we encompass the entire state and find any TICs within that radius. \n\nI then pulled the data from Foursquare's Places API into a basic dataframe. There are several features within the dataframe that are not of any use, so I cleanse the dataframe and prep it for visualization. \n\nIn the final step, I visualize the dataframe and plot the travel information centers on a map to understand the spread of the dataframe. \n"
        },
        {
            "cell_type": "markdown",
            "metadata": {},
            "source": "# Discussion"
        },
        {
            "cell_type": "markdown",
            "metadata": {},
            "source": "The reader will notice that there are not many travel information centers in Oklahoma, and that there is a vast amount of opportunity to build more at or near points of interest all across the state. Millions of people have started going on road trips in the United States due to COVID, and they are likely rediscovering their love for the road. For returning tourists, more travel information centers would make for an excellent revenue-generating asset for the state and should be considered."
        },
        {
            "cell_type": "markdown",
            "metadata": {},
            "source": "# Conclusion"
        },
        {
            "cell_type": "markdown",
            "metadata": {},
            "source": "The purpose of this project was to plot, map, and cluster Oklahoma's travel information centers or TICs, then determine whether there is opportunity to build new locations. What we quickly discovered is there are vasts amounts of opportunity to build more TICs, especially in the era of COVID and renewed interest in road trips. This was made possible using Foursquare's Places API to pull integral lat-long and venue categorization data. "
        },
        {
            "cell_type": "code",
            "execution_count": null,
            "metadata": {},
            "outputs": [],
            "source": ""
        },
        {
            "cell_type": "code",
            "execution_count": null,
            "metadata": {},
            "outputs": [],
            "source": ""
        }
    ],
    "metadata": {
        "kernelspec": {
            "display_name": "Python 3.7",
            "language": "python",
            "name": "python3"
        },
        "language_info": {
            "codemirror_mode": {
                "name": "ipython",
                "version": 3
            },
            "file_extension": ".py",
            "mimetype": "text/x-python",
            "name": "python",
            "nbconvert_exporter": "python",
            "pygments_lexer": "ipython3",
            "version": "3.7.9"
        }
    },
    "nbformat": 4,
    "nbformat_minor": 1
}